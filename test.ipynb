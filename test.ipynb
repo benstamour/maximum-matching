{
 "cells": [
  {
   "cell_type": "markdown",
   "id": "6e6c414b",
   "metadata": {},
   "source": [
    "Maximum Matching Program\n",
    "======================="
   ]
  },
  {
   "cell_type": "markdown",
   "id": "123a3f57",
   "metadata": {},
   "source": [
    "A **graph** consists of vertices connected by edges. For example, the following image contains a graph with ten vertices, labelled from *a* to *j*:"
   ]
  },
  {
   "cell_type": "markdown",
   "id": "db3a6476",
   "metadata": {},
   "source": [
    "![Graph](pictures/graph1.png \"Graph\")"
   ]
  },
  {
   "cell_type": "markdown",
   "id": "5ac72c37",
   "metadata": {},
   "source": [
    "If two vertices are connected by an edge, they are **adjacent** to each other. For example, in the above graph, vertex *c* is adjacent to vertices *f* and *j*. Similarly, if two edges share a common vertex, the edges are also adjacent to each other. The edges connecting vertex *c* to vertices *f* and *j* are adjacent to each other.\n",
    "\n",
    "A **matching** is a set of pairwise non-adjacent edges; for example, in the above graph, a matching could include the edge connecting vertices *b* and *g* and the edge connecting *c* and *j*, since each vertex is connected to at most one of the edges in the matching.\n",
    "\n",
    "However, if we add the edge connecting *c* and *f*, then we no longer have a matching, because vertex *c* will be connected to two edges in the matching, and we would therefore have two adjacent edges.\n",
    "\n",
    "A **maximal matching** is a matching where no more edges can be added to the matching without violating the rule that each vertex be connected to at most one edge. In the following image, the purple edges create a maximal matching."
   ]
  },
  {
   "cell_type": "markdown",
   "id": "2d04b5c2",
   "metadata": {},
   "source": [
    "![Graph with Matching](pictures/graph2.png \"Graph with Matching\")"
   ]
  },
  {
   "cell_type": "markdown",
   "id": "cbd2877f",
   "metadata": {},
   "source": [
    "This is a maximal matching because we cannot add another edge to the matching without having at least one vertex connected to more than one edge in the matching (the purple edges). Note that it is not necessary for all vertices to be connected to an edge in the matching in order for it to be maximal - in the above image, vertices *a* and *f* are not connected to any edge in the maximal matching.\n",
    "\n",
    "A **maximum matching** is a matching that contains the maximum number of edges possible. A maximum matching must be maximal, but a maximal matching may not be a maximum matching.\n",
    "\n",
    "You may also notice that out of vertices *a* through *e*, none of them are connected to each other. Likewise, no vertex from *f* through *j* is connected to another vertex in that range. When this happens, the graph is called **bipartite**. A bipartite graph contains two disjoint sets of vertices *X* and *Y* where each edge in the graph connects a vertex in *X* with a vertex in *Y*. We can divide the above graph into two sets below, which shows it to be bipartite:"
   ]
  },
  {
   "cell_type": "markdown",
   "id": "6f8e96ad",
   "metadata": {},
   "source": [
    "![Graph Shown as Bipartite](pictures/graph3.png \"Graph Shown as Bipartite\")"
   ]
  },
  {
   "cell_type": "markdown",
   "id": "965141c4",
   "metadata": {},
   "source": [
    "Here, we have also renamed vertices *a* through *e* to be *x*1 through *x*5, while vertices *f* through *j* have been renamed to *y*1 through *y*5. It can be seen that each edge in the graph connects a vertex in *X* with a vertex in *Y*.\n",
    "\n",
    "Now, using the code below, we can find a maximum matching for any bipartite graph. We first define classes for matchings and vertices, along with the `Alg` class, which contains subsets of *X* and *Y* and where we will be using our augmenting path algorithm `augpath()` to determine our maximum matching."
   ]
  },
  {
   "cell_type": "code",
   "execution_count": 16,
   "id": "958b2ae1",
   "metadata": {},
   "outputs": [],
   "source": [
    "# Imports\n",
    "from array import *\n",
    "import copy\n",
    "\n",
    "# Class for matchings\n",
    "class Matching(object):                 # each Matching object contains a set of edges and the number of edges in the matching\n",
    "    def __init__(self, edgeSet, size):  # sets all attributes of newly created Matching object\n",
    "        self.edgeSet = edgeSet\n",
    "        self.size = size\n",
    "\n",
    "# Class for vertices\n",
    "class Vertex(object): # each Vertex object contains a number corresponding to its place in the graph and adjacency matrix, an indicator of whether it has been marked,\n",
    "                      # and the vertex it was reached from (if applicable) when using augmenting path algorithm\n",
    "    def __init__(self, num, marked, reachedFrom):   # sets all attributes of newly created Vertex object\n",
    "        self.num = num\n",
    "        self.marked = marked\n",
    "        self.reachedFrom = reachedFrom\n",
    "\n",
    "# Class to be used with the augmenting path algorithm\n",
    "class Alg(object):                  # each Alg object contains sets S (subset of X) and T (subset of Y) which are the sets of vertices reached\n",
    "    def __init__(self, S, T):       # sets all attributes of newly created Alg object\n",
    "        self.S = S\n",
    "        self.T = T\n",
    "\n",
    "    def augpath(self, G, M, U):     # implements augmenting path algorithm, where G is an array representing the graph, M is a matching, and U is the set of vertices in the graph.\n",
    "        if M.size == 1:             # if the matching consists of just one edge, initialize S and T\n",
    "            self.S = U\n",
    "            self.T = []\n",
    "            \n",
    "        noUnmarkedVertex = True             # Boolean variable indicating whether S has an unmarked vertex\n",
    "        for v in self.S:                    # checks whether S has an unmarked vertex\n",
    "            if v.marked == False:\n",
    "                noUnmarkedVertex = False\n",
    "                break\n",
    "        if noUnmarkedVertex == True:        # if S has no unmarked vertex, we have explored every vertex in S so M is a maximal matching and we return M\n",
    "            return M\n",
    "        else:\n",
    "            reset = []                      # if we restart the algorithm again with j=0 (retaining certain edges), this will include the vertices to skip over\n",
    "            for j in range(0, len(self.S)): # for each vertex in S\n",
    "                x = self.S[j]               # set the Vertex object x be element j in S\n",
    "                if x in reset:              # if x is in reset, it is already an endpoint of an edge in M that we do not want to change\n",
    "                    continue\n",
    "                if x.marked == False:       # checks if x is an unmarked vertex\n",
    "                    c = False               # Boolean variable indicating whether x is an endpoint of an edge in M\n",
    "                    for e in M.edgeSet:     # checks if x is already an endpoint of an edge in M\n",
    "                        if e[0] == x.num:\n",
    "                            c = True\n",
    "                            break\n",
    "                    if c:                   # if x is an endpoint of an edge in M, we end this iteration of the loop\n",
    "                        continue\n",
    "                    \n",
    "                    Nx = []                     # to store the neighbours of x\n",
    "                    for i in range(0, numY):    # for each vertex in the set Y\n",
    "                        if G[x.num][i] > 0:     # if the vertex is adjacent to x, add it to Nx\n",
    "                            Nx.append(i)\n",
    "                            \n",
    "                    for y in Nx:                # consider each y in Nx (note that the vertex y is just an integer variable here, not a Vertex object like x is)\n",
    "                        saturated = False       # Boolean variable indicating whether y is saturated by M\n",
    "                        for e in M.edgeSet:\n",
    "                            if e[1] == y:       # if y is the endpoint of an edge already in M\n",
    "                                s = True        # Boolean variables indicating whether y and the other endpoint of this edge are already in T and S respectively\n",
    "                                t = True\n",
    "                                for p in self.S:\n",
    "                                    if p.num == e[0]:           # if the endpoint in X is already in S\n",
    "                                        s = False\n",
    "                                        p.reachedFrom = y       # records number of vertex from which p was reached\n",
    "                                        break\n",
    "                                for q in self.T:\n",
    "                                    if q.num == e[1]:           # if a Vertex object with num = y is already in T\n",
    "                                        t = False\n",
    "                                        q.reachedFrom = x.num   # records number of vertex from which q was reached\n",
    "                                        break\n",
    "                                if s:                           # if the endpoint in X is not already in S, add this endpoint to S as a Vertex object\n",
    "                                    self.S.append(Vertex(e[0], False, y))\n",
    "                                if t:                           # if a Vertex object with num = y is not in T, create a Vertex object in T with num = y\n",
    "                                    self.T.append(Vertex(e[1], False, x.num))\n",
    "                                saturated = True\n",
    "                                break\n",
    "                        if saturated == True:                   # if y is saturated by M, end this iteration of the loop\n",
    "                            continue\n",
    "                        else:\n",
    "                            b = False                           # Boolean variable indicating whether x is already saturated by M\n",
    "                            for e in M.edgeSet:                 # for every edge in M, if x is saturated by M, we end this iteration of the loop\n",
    "                                if e[0] == x.num:               # this is the second time we test for this because we may have just added an edge into M which saturates\n",
    "                                                                # x and one of its neighbours in a previous iteration of the loop\n",
    "                                    b = True\n",
    "                                    M.edgeSet.remove(e)         # if x is the endpoint of an edge in M, replace this edge in M with a new edge connecting x and y\n",
    "                                                                # this allows us to consider each y in Nx\n",
    "                                    M.edgeSet.append([x.num, y])\n",
    "                                    reset.append(x)             # we will go through every vertex with the algorithm again but we will skip over the vertex x because\n",
    "                                                                # we want to keep this edge in M\n",
    "                                    j = 0                       # resetting the value of j; we want to consider the previous x's again because one of those vertices may\n",
    "                                                                # be adjacent to the other endpoint of e which is in Y\n",
    "                                    for v in self.S:            # change every marked vertex in S that isn't in the reset list to unmarked\n",
    "                                        if v not in reset:\n",
    "                                            v.marked = False\n",
    "                                    self.augpath(G, M, U)       # recursively call the algorithm again using this new matching\n",
    "                                    break\n",
    "                            if b == True:                       # if x is saturated by M, move on to the next iteration of the loop\n",
    "                                continue\n",
    "                            M.edgeSet.append([x.num, y])        # otherwise, add an edge to M containing the num value of the Vertex object x along with the value of y\n",
    "                            M.size += 1                         # increase the size of the matching M by 1\n",
    "                            self.augpath(G, M, U)               # recursively call the algorithm again to try to get a new edge to add to M\n",
    "                x.marked = True                                 # after we have checked all neighbours of x, we mark x and move on to the next iteration of the loop\n",
    "        return M                                                # if we exit the loop, return the matching M"
   ]
  },
  {
   "cell_type": "markdown",
   "id": "0574f9da",
   "metadata": {},
   "source": [
    "With our classes defined, we now take input from the user to construct our bipartite graph. As a sample input, we can enter our bipartite graph from above."
   ]
  },
  {
   "cell_type": "code",
   "execution_count": 18,
   "id": "1b05e99b",
   "metadata": {},
   "outputs": [
    {
     "name": "stdout",
     "output_type": "stream",
     "text": [
      "Enter the number of vertices in X: 5\n",
      "Enter the number of vertices in Y: 5\n",
      "\n",
      "Now we will fill in the adjacency matrix.\n",
      "Order the vertices in X as x1 to x5 and the vertices in Y from y1 to y5.\n",
      "\n",
      "For each vertex in X, list the vertices in Y that are adjacent to it, separated by spaces; for example, if y1 and y3 are adjacent to the given vertex, then you would enter '1 3'.\n",
      "Enter the values of each vertex in Y that is adjacent to x1: 4\n",
      "Enter the values of each vertex in Y that is adjacent to x2: 2 5\n",
      "Enter the values of each vertex in Y that is adjacent to x3: 1 5\n",
      "Enter the values of each vertex in Y that is adjacent to x4: 2 4\n",
      "Enter the values of each vertex in Y that is adjacent to x5: 1 3 4\n",
      "\n",
      "********************\n",
      "\n"
     ]
    }
   ],
   "source": [
    "# gets number of vertices in the sets X and Y from the user\n",
    "numX = int(input(\"Enter the number of vertices in X: \"))\n",
    "numY = int(input(\"Enter the number of vertices in Y: \"))\n",
    "array = [[0 for j in range(0,numY)] for i in range(0, numX)]    # adjacency matrix of the graph\n",
    "\n",
    "print(\"Order the vertices in X as x1 to x\" + str(numX) + \" and the vertices in Y from y1 to y\" + str(numY) + \".\\n\")\n",
    "print(\"For each vertex in X, list the vertices in Y that are adjacent to it, separated by spaces; for example, if y1 and y3 are adjacent to the given vertex, then you would enter '1 3'.\")\n",
    "\n",
    "# gets each value in the adjacency matrix from the user\n",
    "for i in range(0,numX):\n",
    "    yvals = input(\"Enter the values of each vertex in Y that is adjacent to x\" + str(i+1) + \": \").split()\n",
    "    for j in yvals:\n",
    "        array[i][int(j)-1] = 1\n",
    "print(\"\\n********************\\n\")"
   ]
  },
  {
   "cell_type": "markdown",
   "id": "659333e3",
   "metadata": {},
   "source": [
    "With our bipartite graph created, we now use our algorithm to determine a set of edges that form a maximum matching. Note that a graph may have multiple maximum matchings; this program will just find one of these matchings."
   ]
  },
  {
   "cell_type": "code",
   "execution_count": 20,
   "id": "13955899",
   "metadata": {},
   "outputs": [
    {
     "name": "stdout",
     "output_type": "stream",
     "text": [
      "A maximum matching of the graph contains the following 5 edges in the form [xa, yb],\n",
      "where xa is vertex a in the set X and yb is vertex b in the set Y:\n",
      "\n",
      "[x2, y5]\n",
      "[x1, y4]\n",
      "[x3, y1]\n",
      "[x4, y2]\n",
      "[x5, y3]\n"
     ]
    }
   ],
   "source": [
    "maxSize = 0                                 # size of the largest matching encountered so far will be stored here\n",
    "maxMatching = None                          # the largest matching encountered so far will be stored here\n",
    "U = []\n",
    "for i in range(0, numX):\n",
    "    U.append(Vertex(i, False, None))        # adds every vertex in X into U as a Vertex object\n",
    "origU = copy.deepcopy(U)                    # creates copy of U to save this original version for later\n",
    "\n",
    "for i in range(0, numX):                    # run algorithm for each edge in the graph\n",
    "    for j in range(0, numY):\n",
    "        if array[i][j] > 0:                 # tests if an edge connecting the corresponding vertices in X and Y exists\n",
    "            edge = Matching([[i,j]], 1)     # creates a new instance of Matching containing one edge in its edgeSet\n",
    "            if maxSize == 0:                # if this is the first edge encountered by the algorithm, this edge is the largest matching encountered so far\n",
    "                maxSize = 1\n",
    "                maxMatching = edge\n",
    "            for v in U:                     # removes the vertex in U that is saturated by edge\n",
    "                if v.num == i:\n",
    "                    U.remove(v)\n",
    "                    break\n",
    "            A = Alg(U, [])                  # creates instance of Alg\n",
    "            M = A.augpath(array, edge, U)   # runs augmenting path algorithm\n",
    "            if M.size > maxSize:            # if the returned matching is larger than the current largest matching, the returned matching is the new largest matching\n",
    "                maxSize = M.size\n",
    "                maxMatching = M\n",
    "            U = copy.deepcopy(origU)        # restores U to its original state by replacing it with the copy in preparation for next iteration of the loop           \n",
    "\n",
    "print(\"A maximum matching of the graph contains the following \" + str(maxSize) + \" edges in the form [xa, yb],\\n\" +\n",
    "      \"where xa is vertex a in the set X and yb is vertex b in the set Y:\\n\")\n",
    "for e in maxMatching.edgeSet:               # prints all edges in the maximum matching of the graph\n",
    "    print(\"[x\" + str(e[0] + 1) + \", y\" + str(e[1] + 1) + \"]\")"
   ]
  },
  {
   "cell_type": "markdown",
   "id": "c3e51ba9",
   "metadata": {},
   "source": [
    "This gives us our result: if we colour the corresponding edges in our graph, we can see that each vertex is connected to at most one purple edge in our matching. In fact, each vertex is connected to exactly one purple edge, making the matching **perfect**. A perfect matching is guaranteed to be maximum, although a maximum matching may not necessarily be perfect.\n",
    "\n",
    "![Graph with Maximum Matching](pictures/graph4.png \"Graph with Maximum Matching\")"
   ]
  }
 ],
 "metadata": {
  "kernelspec": {
   "display_name": "Python 3 (ipykernel)",
   "language": "python",
   "name": "python3"
  },
  "language_info": {
   "codemirror_mode": {
    "name": "ipython",
    "version": 3
   },
   "file_extension": ".py",
   "mimetype": "text/x-python",
   "name": "python",
   "nbconvert_exporter": "python",
   "pygments_lexer": "ipython3",
   "version": "3.9.13"
  }
 },
 "nbformat": 4,
 "nbformat_minor": 5
}
